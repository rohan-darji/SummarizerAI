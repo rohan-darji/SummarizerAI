{
 "cells": [
  {
   "cell_type": "markdown",
   "metadata": {},
   "source": [
    "## Loading PDF and Extracting text "
   ]
  },
  {
   "cell_type": "code",
   "execution_count": 1,
   "metadata": {},
   "outputs": [],
   "source": [
    "import fitz\n",
    "\n",
    "def extract_text_from_pdf(pdf_path):\n",
    "    doc = fitz.open(pdf_path)\n",
    "    text = \"\"\n",
    "    for page in doc:\n",
    "        text += page.get_text()\n",
    "    return text"
   ]
  },
  {
   "cell_type": "code",
   "execution_count": 7,
   "metadata": {},
   "outputs": [
    {
     "data": {
      "text/plain": [
       "'IU Bloomington\\nLuddy School of Informatics, Computing, and \\nEngineering\\nDepartment of Information and Library Science\\nZ515: Information Architecture\\nTaught by:\\nKate Wehner <kmessing@iu.edu>\\nFall 2024\\nZ515—INFORMATION ARCHITECTURE SYLLABUS\\n2\\nIntroduction\\nThe backbone of good user experience is findability and discoverability of \\ncontent. Principles in information architecture applied to digital ecosystems \\nenable users to navigate with ease and intuitively understand categories \\nof information. Traditional systematic structures will be covered, such as \\nclassification schemes, ontologies, controlled vocabularies, and thesauri.\\nThis course also reviews research in information science, cognitive science, \\nsemiotics, and computer science that has contributed to an understanding \\nof how communities represent, organize, retrieve, and ultimately use \\ninformation. This research can inform current practices of representation and \\norganization in the design of more effective information systems.'"
      ]
     },
     "execution_count": 7,
     "metadata": {},
     "output_type": "execute_result"
    }
   ],
   "source": [
    "pdf_path = 'Syllabus Z515 2024.pdf'\n",
    "pdf_text = extract_text_from_pdf(pdf_path)\n",
    "pdf_text[0:1000]"
   ]
  },
  {
   "cell_type": "markdown",
   "metadata": {},
   "source": [
    "## API Testing"
   ]
  },
  {
   "cell_type": "code",
   "execution_count": 3,
   "metadata": {},
   "outputs": [
    {
     "name": "stdout",
     "output_type": "stream",
     "text": [
      "Fast language models, also known as efficient language models or accelerable language models, have gained significant importance in recent years due to the increasing demand for natural language processing (NLP) and machine learning (ML) applications. Here are some reasons why fast language models are crucial:\n",
      "\n",
      "1. **Scalability**: Fast language models can process large amounts of text data quickly, making them essential for applications that require handling massive amounts of text, such as text analysis, sentiment analysis, and language translation.\n",
      "2. **Real-time processing**: With the increasing use of NLP in various applications like chatbots, virtual assistants, and social media platforms, fast language models enable real-time processing of user input, enabling faster responses and improved user experience.\n",
      "3. **Efficient memory utilization**: Fast language models require less memory compared to traditional language models, making them suitable for deployment on devices with limited memory resources, such as mobile devices or embedded systems.\n",
      "4. **Faster inference times**: Fast language models can perform inference (i.e., generate text or make predictions) much faster than traditional language models, which is crucial for applications that require rapid decision-making, such as in natural language understanding, question-answering, and text classification.\n",
      "5. **Enabling applications**: Fast language models can power various applications, such as:\n",
      "\t* Sentiment analysis and opinion mining\n",
      "\t* Language translation and localization\n",
      "\t* Text summarization and summarization\n",
      "\t* Question-answering and conversational AI\n",
      "\t* Content generation and writing assistance\n",
      "6. **Improved interpretability**: Fast language models can provide insights into the language patterns and relationships that are extracted from the trained model, enabling applications like natural language understanding, text classification, and language modeling.\n",
      "7. **Enhanced decision-making**: By providing fast and accurate predictions, fast language models can inform decision-making processes, such as in customer service, marketing, and finance.\n",
      "8. **Reduced latency**: Fast language models can reduce the latency of NLP-based applications, enabling real-time processing and improving user experience.\n",
      "\n",
      "To achieve these benefits, researchers and developers focus on designing and training fast language models using various techniques, such as:\n",
      "\n",
      "1. **BERT-based architectures**: Building upon the Transformer architecture, BERT-based models are designed to be efficient and scalable while maintaining high accuracy.\n",
      "2. **Knowledge distillation**: Trained models are distilled to smaller, faster models that retain the accuracy of the original model.\n",
      "3. **Pruning and quantization**: Removing redundant model components or converting models to lower-precision data types can significantly reduce memory requirements and accelerate inference.\n",
      "4. **Distributed training**: Training models on distributed computing resources can speed up the training process and reduce the time required for model deployment.\n",
      "\n",
      "In summary, fast language models are crucial for leveraging the power of NLP and ML in various applications, enabling real-time processing, improved scalability, and enhanced decision-making.\n"
     ]
    }
   ],
   "source": [
    "import os\n",
    "\n",
    "from groq import Groq\n",
    "\n",
    "client = Groq(\n",
    "    api_key=os.environ.get(\"GROQ_API_KEY\"),\n",
    ")\n",
    "\n",
    "chat_completion = client.chat.completions.create(\n",
    "    messages=[\n",
    "        {\n",
    "            \"role\": \"user\",\n",
    "            \"content\": \"Explain the importance of fast language models\",\n",
    "        }\n",
    "    ],\n",
    "    model=\"llama3-8b-8192\",\n",
    ")\n",
    "\n",
    "print(chat_completion.choices[0].message.content)"
   ]
  },
  {
   "cell_type": "markdown",
   "metadata": {},
   "source": [
    "## Summarizing Text"
   ]
  },
  {
   "cell_type": "code",
   "execution_count": 8,
   "metadata": {},
   "outputs": [
    {
     "name": "stdout",
     "output_type": "stream",
     "text": [
      "Summary:\n",
      "The provided text is a syllabus for a course called \"Information Architecture\" (Z515) at the Luddy School of Informatics, Computing, and Engineering, Department of Information and Library Science, Indiana University Bloomington. Here's a summary of the course:\n",
      "\n",
      "**Course Overview:** \n",
      "\n",
      "This course focuses on the principles of information architecture, which enables users to navigate digital ecosystems with ease and understand categories of information intuitively. The course covers traditional systematic structures, such as classification schemes, ontologies, controlled vocabularies, and thesauri, as well as research in information science, cognitive science, semiotics, and computer science.\n",
      "\n",
      "**Course Objectives:**\n",
      "\n",
      "By the end of the course, students will:\n",
      "\n",
      "1. Understand the objectives, functions, and applications of information architectures in various environments.\n",
      "2. Be familiar with a range of structured models of information representation and organization.\n",
      "3. Be able to identify and analyze the problems of a given information architecture and suggest a more effective and efficient architecture based on the framework of representation and organization.\n",
      "\n",
      "**Course Schedule:**\n",
      "\n",
      "The course has 15 sessions, starting from August 27th and ending on December 10th. The topics covered include:\n",
      "\n",
      "- Introduction to the course and user experience\n",
      "- Representation and mental models\n",
      "- IA research, evaluation, and design\n",
      "- Order versus organization\n",
      "- Order and organization for navigation\n",
      "- Metadata and tagging\n",
      "- Controlled vocabularies, facets, and labeling systems\n",
      "- Site maps and flow charts\n",
      "- Wireframes\n",
      "- Final wireframe critiques\n",
      "\n",
      "**Required Readings:**\n",
      "\n",
      "The required readings include:\n",
      "\n",
      "- The Elements of User Experience by Jesse James Garrett (2nd edition)\n",
      "- Chapters from the book will be listed with the corresponding class session\n",
      "\n",
      "**Class Format:**\n",
      "\n",
      "Each class session will include lectures, class discussions of assigned readings, and in-class activities. Students may work in small groups and report on their results.\n",
      "\n",
      "**Grading:**\n",
      "\n",
      "The grading for this course is based on:\n",
      "\n",
      "- In-class participation (constitutes 10% of the final grade)\n",
      "- Assignments (constitutes 40% of the final grade)\n",
      "- Final exam (constitutes 30% of the final grade)\n",
      "- Late submissions and incompletes (have specific rules and regulations)\n",
      "\n",
      "**Late Submissions and Incompletes:**\n",
      "\n",
      "Late assignments will not be accepted unless arrangements have been made with the instructor prior to the submission date. Incompletes will only be assigned in exceptional circumstances with timely notification.\n",
      "\n",
      "**Academic Integrity:**\n",
      "\n",
      "The course follows the Indiana University and Department of Information and Library Science policies on academic dishonesty. Plagiarism, cheating, and other forms of dishonesty will result in penalties, including failing grades and additional penalties.\n",
      "\n",
      "**Students with Disabilities:**\n",
      "\n",
      "Students with disabilities can seek accommodations by contacting IU Disability Services for Students.\n",
      "\n",
      "**COVID-19 Information:**\n",
      "\n",
      "If a student must miss a class due to illness, they should notify the instructor before class, and arrangements will be made to record the class session.\n"
     ]
    }
   ],
   "source": [
    "def summarize_text(text):\n",
    "    try:\n",
    "        summary_response = client.chat.completions.create(\n",
    "            messages=[\n",
    "                {\n",
    "                    \"role\": \"system\",\n",
    "                    \"content\": \"You are a helpful assistant.\"\n",
    "                },\n",
    "                {\n",
    "                    \"role\": \"user\",\n",
    "                    \"content\": f\"Summarize the following text: {text}\"\n",
    "                }\n",
    "            ],\n",
    "            model=\"llama-3.1-8b-instant\",\n",
    "        )\n",
    "        return summary_response.choices[0].message.content\n",
    "    except Exception as e:\n",
    "        return f\"An error occurred: {e}\"\n",
    "\n",
    "summary = summarize_text(pdf_text)\n",
    "print(\"Summary:\")\n",
    "print(summary)"
   ]
  },
  {
   "cell_type": "markdown",
   "metadata": {},
   "source": [
    "## Questioning"
   ]
  },
  {
   "cell_type": "code",
   "execution_count": 12,
   "metadata": {},
   "outputs": [
    {
     "name": "stdout",
     "output_type": "stream",
     "text": [
      "Answer:\n",
      "Here's the course outline in the form of a short story:\n",
      "\n",
      "As you sit in the lecture hall, Professor Kate Wehner begins to introduce the course, laying the groundwork for what you'll be learning throughout the semester. It's the first week of August and you're about to embark on a journey through the world of Information Architecture.\n",
      "\n",
      "On the first day, Professor Wehner talks about what to expect from the course and sets the tone for the upcoming weeks. You take notes as she explains the objectives of the course, which include understanding the objectives, functions, and applications of information architectures, as well as becoming familiar with various structured models of information representation and organization.\n",
      "\n",
      "As the weeks go by, you delve into the world of Information Architecture and User Experience. In session 2, Professor Wehner discusses the relationship between IA and user experience, citing Garrett's book on the Elements of User Experience (Chapter 1: User Experience and Why it Matters). You start to grasp the concept of how IA can make or break a user's experience.\n",
      "\n",
      "In session 3, you learn about representation and mental models. You're given a reading assignment from the book, where Garrett discusses the different elements of user experience, including the strategy plane. The strategy plane is where the design of a product or system is defined, and you see the importance of having a clear plan in place.\n",
      "\n",
      "As the weeks progress, you cover topics such as order versus organization, order and organization for navigation, metadata and tagging, controlled vocabularies, facets, and labeling systems. You learn about site maps and flow charts, and even get a chance to practice designing wireframes in sessions 11 and 12.\n",
      "\n",
      "Finally, you work on completing a wireframe design and receive feedback from your peers in sessions 13, 14, and 15. The semester culminates in a working session where you'll apply the concepts you've learned throughout the semester.\n",
      "\n",
      "With your knowledge of Information Architecture now expanded, you feel more confident in your ability to tackle design challenges and improve user experiences. You leave the course with a newfound appreciation for the role that Information Architecture plays in making technology more usable and accessible for everyone.\n"
     ]
    }
   ],
   "source": [
    "def ask_question(context, question):\n",
    "    try:\n",
    "        answer_response = client.chat.completions.create(\n",
    "            messages=[\n",
    "                {\n",
    "                    \"role\": \"system\",\n",
    "                    \"content\": \"You are a helpful assistant.\"\n",
    "                },\n",
    "                {\n",
    "                    \"role\": \"user\",\n",
    "                    \"content\": f\"Context: {context} Question: {question}\"\n",
    "                }\n",
    "            ],\n",
    "            model=\"llama-3.1-8b-instant\",\n",
    "        )\n",
    "        return answer_response.choices[0].message.content\n",
    "    except Exception as e:\n",
    "        return f\"An error occurred: {e}\"\n",
    "\n",
    "question = \"Can you give me the course outline? give me the content in the form of short story\"\n",
    "answer = ask_question(pdf_text, question)\n",
    "print(\"Answer:\")\n",
    "print(answer)"
   ]
  },
  {
   "cell_type": "markdown",
   "metadata": {},
   "source": [
    "## Streamlit app"
   ]
  },
  {
   "cell_type": "code",
   "execution_count": 14,
   "metadata": {},
   "outputs": [
    {
     "name": "stderr",
     "output_type": "stream",
     "text": [
      "2024-11-16 15:48:00.818 Thread 'MainThread': missing ScriptRunContext! This warning can be ignored when running in bare mode.\n",
      "2024-11-16 15:48:00.820 Thread 'MainThread': missing ScriptRunContext! This warning can be ignored when running in bare mode.\n",
      "2024-11-16 15:48:00.821 Thread 'MainThread': missing ScriptRunContext! This warning can be ignored when running in bare mode.\n",
      "2024-11-16 15:48:00.822 Thread 'MainThread': missing ScriptRunContext! This warning can be ignored when running in bare mode.\n",
      "2024-11-16 15:48:00.822 Thread 'MainThread': missing ScriptRunContext! This warning can be ignored when running in bare mode.\n",
      "2024-11-16 15:48:00.823 Thread 'MainThread': missing ScriptRunContext! This warning can be ignored when running in bare mode.\n",
      "2024-11-16 15:48:00.824 Thread 'MainThread': missing ScriptRunContext! This warning can be ignored when running in bare mode.\n"
     ]
    }
   ],
   "source": [
    "import streamlit as st\n",
    "import fitz  # PyMuPDF\n",
    "from groq import Groq\n",
    "from PIL import Image\n",
    "\n",
    "# Initialize the Groq client\n",
    "client = Groq(api_key='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')\n",
    "\n",
    "def extract_text_from_pdf(pdf_path):\n",
    "    doc = fitz.open(pdf_path)\n",
    "    text = \"\"\n",
    "    for page in doc:\n",
    "        text += page.get_text()\n",
    "    return text\n",
    "\n",
    "def summarize_text(text):\n",
    "    try:\n",
    "        summary_response = client.chat.completions.create(\n",
    "            messages=[\n",
    "                {\n",
    "                    \"role\": \"system\",\n",
    "                    \"content\": \"You are a helpful assistant.\"\n",
    "                },\n",
    "                {\n",
    "                    \"role\": \"user\",\n",
    "                    \"content\": f\"Summarize the following text: {text}\"\n",
    "                }\n",
    "            ],\n",
    "            model=\"llama-3.1-8b-instant\",\n",
    "        )\n",
    "        return summary_response.choices[0].message.content\n",
    "    except Exception as e:\n",
    "        return f\"An error occurred: {e}\"\n",
    "\n",
    "def ask_question(context, question):\n",
    "    try:\n",
    "        answer_response = client.chat.completions.create(\n",
    "            messages=[\n",
    "                {\n",
    "                    \"role\": \"system\",\n",
    "                    \"content\": \"You are a helpful assistant.\"\n",
    "                },\n",
    "                {\n",
    "                    \"role\": \"user\",\n",
    "                    \"content\": f\"Context: {context} Question: {question}\"\n",
    "                }\n",
    "            ],\n",
    "            model=\"llama-3.1-8b-instant\",\n",
    "        )\n",
    "        return answer_response.choices[0].message.content\n",
    "    except Exception as e:\n",
    "        return f\"An error occurred: {e}\"\n",
    "\n",
    "# Streamlit UI\n",
    "st.title(\"PDF Summarizer and Question Answering\")\n",
    "# image = Image.open('AI Pic 5.png')\n",
    "# st.image(image, use_column_width='always')\n",
    "\n",
    "uploaded_file = st.file_uploader(\"Upload a PDF file\", type=\"pdf\")\n",
    "\n",
    "if uploaded_file is not None:\n",
    "    pdf_text = extract_text_from_pdf(uploaded_file)\n",
    "    \n",
    "    st.subheader(\"Text Extracted from PDF:\")\n",
    "    st.write(pdf_text[:500])  # Display a snippet of the text for review\n",
    "\n",
    "    summary_button = st.button(\"Summarize Text\")\n",
    "    if summary_button:\n",
    "        summary = summarize_text(pdf_text)\n",
    "        st.subheader(\"Summary:\")\n",
    "        st.write(summary)\n",
    "\n",
    "    question = st.text_input(\"Ask a question about the PDF:\")\n",
    "    if question:\n",
    "        answer = ask_question(pdf_text, question)\n",
    "        st.subheader(\"Answer:\")\n",
    "        st.write(answer)"
   ]
  }
 ],
 "metadata": {
  "kernelspec": {
   "display_name": "venv",
   "language": "python",
   "name": "python3"
  },
  "language_info": {
   "codemirror_mode": {
    "name": "ipython",
    "version": 3
   },
   "file_extension": ".py",
   "mimetype": "text/x-python",
   "name": "python",
   "nbconvert_exporter": "python",
   "pygments_lexer": "ipython3",
   "version": "3.12.2"
  }
 },
 "nbformat": 4,
 "nbformat_minor": 2
}
